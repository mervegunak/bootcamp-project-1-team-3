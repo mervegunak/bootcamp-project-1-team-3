{
 "cells": [
  {
   "cell_type": "code",
   "execution_count": null,
   "metadata": {},
   "outputs": [],
   "source": [
    "import matplotlib.pyplot as plt \n",
    "import numpy as np\n",
    "import pandas as pd \n",
    "import seaborn as sns\n",
    "import scipy\n",
    "\n",
    "import warnings\n",
    "warnings.filterwarnings(\"ignore\")"
   ]
  },
  {
   "cell_type": "markdown",
   "metadata": {},
   "source": [
    "# Genel Bakış"
   ]
  },
  {
   "cell_type": "markdown",
   "metadata": {},
   "source": [
    "Bu kısımda veri seti üzerinde genel bir fikir kazanmak adına inceleme yapıldı:\n",
    "- Veri setinin ilk 10 satırı yazdırıldı.\n",
    "- Veri setinin kolonlarının isimleri yazdırıldı.\n",
    "- Kolonların veri tipleri ve içerisindeki dolu veri sayısı yazdırıldı."
   ]
  },
  {
   "cell_type": "code",
   "execution_count": null,
   "metadata": {
    "tags": []
   },
   "outputs": [],
   "source": [
    "# verinin okunması \n",
    "data = pd.read_csv(\"train.csv\")\n",
    "df = data.copy()"
   ]
  },
  {
   "cell_type": "code",
   "execution_count": null,
   "metadata": {},
   "outputs": [],
   "source": [
    "#verinin ilk 10 satırını gösterir\n",
    "df.head(10)"
   ]
  },
  {
   "cell_type": "code",
   "execution_count": null,
   "metadata": {},
   "outputs": [],
   "source": [
    "df.info()"
   ]
  },
  {
   "cell_type": "markdown",
   "metadata": {},
   "source": [
    "#### ------------------------------------------------------------------------------------------------------------------------------------------------------------------------------------"
   ]
  },
  {
   "cell_type": "markdown",
   "metadata": {},
   "source": [
    "Kolonları inceleme aşamasında içerisinde nümerik değerler bulunan bazı değişkenlerin aslında kategorik tipte değişken olduğu fark edildi ve tip dönüşümü gerçekleştirildi."
   ]
  },
  {
   "cell_type": "code",
   "execution_count": null,
   "metadata": {
    "tags": []
   },
   "outputs": [],
   "source": [
    "# sayısal veri içerdikleri için numerik gözüken değişkenlerin tipini kategorik tipine (object) çevrilmesi : \n",
    "\n",
    "df.loc[:,['MSSubClass', 'OverallQual', 'OverallCond', 'MoSold', 'YrSold']] = df.loc[:,['MSSubClass', 'OverallQual', 'OverallCond', 'MoSold', 'YrSold']].astype('object')"
   ]
  },
  {
   "cell_type": "markdown",
   "metadata": {},
   "source": [
    "# Imputation"
   ]
  },
  {
   "cell_type": "markdown",
   "metadata": {},
   "source": [
    "Bu aşamada genel olarak veri seti üzerindeki eksik ve hatalı verilerin temizlenmesi ve düzeltilmesi üzerine çalışıldı."
   ]
  },
  {
   "cell_type": "markdown",
   "metadata": {},
   "source": [
    "- Öncelikle excel tablosunun \"**expectation**\" kolonundaki nümerik verilerin değerlendirilmesini yapmak için korelasyon değerlerine bakıldı."
   ]
  },
  {
   "cell_type": "code",
   "execution_count": null,
   "metadata": {
    "tags": []
   },
   "outputs": [],
   "source": [
    "# numerik değişkenler arasındaki korelasyonlara hızlı bir bakış : \n",
    "\n",
    "corr = df.corr()\n",
    "f, ax = plt.subplots(figsize=(15, 12))\n",
    "sns.heatmap(corr,linewidths=.5, vmin=0, vmax=1, square=True)"
   ]
  },
  {
   "cell_type": "code",
   "execution_count": null,
   "metadata": {
    "tags": []
   },
   "outputs": [],
   "source": [
    "# saleprice korelasyon matrisi:\n",
    "\n",
    "k = 9 #number of variables for heatmap\n",
    "corrmat = df.corr()\n",
    "cols = corrmat.nlargest(k, 'SalePrice')['SalePrice'].index\n",
    "cm = np.corrcoef(data[cols].values.T)\n",
    "sns.set(font_scale=1.25)\n",
    "plt.figure(figsize=(9,9))\n",
    "hm = sns.heatmap(cm, cbar=True, annot=True, square=True, fmt='.2f', annot_kws={'size': 10}, yticklabels=cols.values, xticklabels=cols.values)\n",
    "plt.show()"
   ]
  },
  {
   "cell_type": "markdown",
   "metadata": {},
   "source": [
    "### Null Verilerin Tespit Edilmesi ve Temizlenmesi"
   ]
  },
  {
   "cell_type": "markdown",
   "metadata": {},
   "source": [
    "Öncelikle null veriler tespit edilerek toplam sayıları ve bu sayılara oranla yüzdeleri yazdırıldı."
   ]
  },
  {
   "cell_type": "code",
   "execution_count": null,
   "metadata": {
    "tags": []
   },
   "outputs": [],
   "source": [
    "# yüzdesel olarak eksik verilerin kontrolü: \n",
    "\n",
    "total = df.isnull().sum().sort_values(ascending=False)\n",
    "percent = (df.isnull().sum()/df.isnull().count()).sort_values(ascending=False)\n",
    "missing_data = pd.concat([total, percent], axis=1, keys=['Total', 'Percent'])\n",
    "missing_data.head(20)"
   ]
  },
  {
   "cell_type": "markdown",
   "metadata": {},
   "source": [
    "Bu bilgiler ışığında:\n",
    "- PoolQC, MiscFeature, Alley, Fence ve FireplaceQu adlı kolonların null değerleri çok yüksek çıkmıştır.\n",
    "- Örnek olarak PoolQC adlı kolon incelendiğinde toplamda 1460 değerin sadece 7 tanesi doludur. Geri kalan 1453 değer null veridir."
   ]
  },
  {
   "cell_type": "code",
   "execution_count": null,
   "metadata": {},
   "outputs": [],
   "source": [
    "df[\"PoolQC\"].value_counts()"
   ]
  },
  {
   "cell_type": "markdown",
   "metadata": {},
   "source": [
    "- Sonrasında yüzdesel olarak fazlaca eksik değere sahip olduğu için ve SalePrice kolonunu çok fazla etkilemeyeceği düşünüldüğü için veri setinden çıkarılmasına karar verilmiştir.\n",
    "- Id kolonu da veri setinde bir anlam ifade etmediği için atıldı."
   ]
  },
  {
   "cell_type": "code",
   "execution_count": null,
   "metadata": {},
   "outputs": [],
   "source": [
    "# veri setinden çıkarılacak değişkenlerin çıkarılması: \n",
    "\n",
    "df=df.drop(['PoolQC','MiscFeature','Alley','Fence','FireplaceQu'], axis=1)"
   ]
  },
  {
   "cell_type": "markdown",
   "metadata": {},
   "source": [
    "Belirtilen kolonlar silindikten sonra kalan null veriler tekrar yazdırıldı."
   ]
  },
  {
   "cell_type": "code",
   "execution_count": null,
   "metadata": {},
   "outputs": [],
   "source": [
    "# incelememiz gereken diğer değişkenleri görmek için tekrar eksik veri tablosunun gösterimi:\n",
    "\n",
    "total = df.isnull().sum().sort_values(ascending=False)\n",
    "percent = (df.isnull().sum()/df.isnull().count()).sort_values(ascending=False)\n",
    "missing_data = pd.concat([total, percent], axis=1, keys=['Total', 'Percent'])\n",
    "missing_data.head(15)"
   ]
  },
  {
   "cell_type": "markdown",
   "metadata": {},
   "source": [
    "### Null verilerin doldurulması"
   ]
  },
  {
   "cell_type": "markdown",
   "metadata": {},
   "source": [
    "Belirlediğimiz yüzdelik dilimin altında kalan kolonların null değerleri anlamlı verilerle dolduruldu."
   ]
  },
  {
   "cell_type": "markdown",
   "metadata": {},
   "source": [
    "LotFrontage kolonu evin sokağa bağlanma uzaklığını ifade etmektedir. Bu kolon üzerinde yapılan işlemler sonucu null değerlerin medyanla doldurulmasına karar verildi."
   ]
  },
  {
   "cell_type": "code",
   "execution_count": null,
   "metadata": {},
   "outputs": [],
   "source": [
    "# lot frontage\n",
    "\n",
    "df['LotFrontage'] = df['LotFrontage'].fillna(df['LotFrontage'].median())"
   ]
  },
  {
   "cell_type": "markdown",
   "metadata": {},
   "source": [
    "# Grouping Operations"
   ]
  },
  {
   "cell_type": "markdown",
   "metadata": {},
   "source": [
    "Bu kısımda kolonları birleştirme işlemleri yapıldı."
   ]
  },
  {
   "cell_type": "markdown",
   "metadata": {},
   "source": [
    "Banyo sayılarıyla ilgili kolonlarda birleştirme işlemi yapıldı:\n",
    "- FullBath; tam-banyo sayısını, HalfBath; yarım-banyo sayısını ifade etmektedir.\n",
    "- BsmtFullBath; bodrumdaki tam-banyo sayısını, ve BsmtHalfBath; bodrumdaki yarım-banyo sayısını ifade etmektedir.\n",
    "- TotalBath hesaplanırken FullBath için 1 katsayısı, HalfBath için 0.5 katsayısı kullanılarak hesaplanmıştır. Bu kolon toplam banyo sayısını ifade etmektedir."
   ]
  },
  {
   "cell_type": "code",
   "execution_count": null,
   "metadata": {},
   "outputs": [],
   "source": [
    "# TotalBath kolonunun hesaplanması ve ilgili kolonların çıkarılması \n",
    "\n",
    "df['TotalBath'] = df['FullBath'] + (0.5*df['HalfBath']) + df['BsmtFullBath'] + (0.5*df['BsmtHalfBath'])\n",
    "df = df.drop(['FullBath', 'HalfBath', 'BsmtFullBath', 'BsmtHalfBath'], axis = 1)"
   ]
  },
  {
   "cell_type": "markdown",
   "metadata": {},
   "source": [
    " "
   ]
  },
  {
   "cell_type": "markdown",
   "metadata": {},
   "source": [
    "Veranda tipleri tek başlarına korelasyonları çok düşük olduğu için ve 0 sayısı çok fazla olduğu için TotalPorch adlı bir kolonda toplandı ve geri kalan kolonlar silindi."
   ]
  },
  {
   "cell_type": "code",
   "execution_count": null,
   "metadata": {},
   "outputs": [],
   "source": [
    "## TotalPorch kolonunun oluşturulması ve diğer ilgili kolonların silinmesi.\n",
    "\n",
    "df[\"TotalPorch\"] = df['OpenPorchSF'] + df['EnclosedPorch'] + df['3SsnPorch'] + df['ScreenPorch']\n",
    "df = df.drop(['OpenPorchSF','EnclosedPorch','3SsnPorch','ScreenPorch'], axis = 1)"
   ]
  },
  {
   "cell_type": "markdown",
   "metadata": {},
   "source": [
    " "
   ]
  },
  {
   "cell_type": "markdown",
   "metadata": {},
   "source": [
    "- Condition kolonları evin demiryollarına, park ve bahçeleri vs. yakınlığını göstermektedir. \n",
    "- Condition1 ve Condition2 kolonları çok sayıda aynı özelliği taşımaktadır."
   ]
  },
  {
   "cell_type": "code",
   "execution_count": null,
   "metadata": {},
   "outputs": [],
   "source": [
    "#Condition kolonlarının düzenlenmesi:\n",
    "\n",
    "df[[\"Condition1\",\"Condition2\", \"SalePrice\"]]"
   ]
  },
  {
   "cell_type": "markdown",
   "metadata": {},
   "source": [
    "- Condition2'de sadece 15 veri farklılık göstermektedir. Bu yüzden Condition2 kolonu atılarak sadece Conditon1 kolonu tutulacaktır."
   ]
  },
  {
   "cell_type": "code",
   "execution_count": null,
   "metadata": {},
   "outputs": [],
   "source": [
    "# condition1\n",
    "\n",
    "df[\"Condition1\"].value_counts()"
   ]
  },
  {
   "cell_type": "code",
   "execution_count": null,
   "metadata": {},
   "outputs": [],
   "source": [
    "# condition2\n",
    "\n",
    "df[\"Condition2\"].value_counts()"
   ]
  },
  {
   "cell_type": "code",
   "execution_count": null,
   "metadata": {},
   "outputs": [],
   "source": [
    "# condition2 değişkeni çıkarıldı, condition1 değişkeninin adı \"condition\" olarak değiştirildi:\n",
    "\n",
    "df.drop(\"Condition2\", axis=1, inplace=True)\n",
    "df.rename(columns={\"Condition1\": \"Condition\"}, inplace=True)\n"
   ]
  },
  {
   "cell_type": "markdown",
   "metadata": {},
   "source": [
    " "
   ]
  },
  {
   "cell_type": "markdown",
   "metadata": {},
   "source": [
    "* GarageArea ve GarageCars değişkenleri yüksek korele olduğu için ikisinden birini seçtik.\n",
    "* GarageFinish değişkeninin bir etkisi olmayacağını düşünerek veri setinden çıkardık. \n",
    "* GarageYrBlt ile YearBuilt değişkeni yüksek korele olduğu için GarageYrBlt değişkenini veri setinden çıkardık.\n",
    "\n",
    "* GarageType,GarageQual ve GarageCond değişkenleri NaN değerleri \"NA\"(No Garage) değeri ile dolduruldu"
   ]
  },
  {
   "cell_type": "code",
   "execution_count": null,
   "metadata": {},
   "outputs": [],
   "source": [
    "# garageX\n",
    "df = df.drop(['GarageArea','GarageYrBlt','GarageFinish'], axis = 1)\n",
    "\n",
    "df['GarageType'].fillna('NA', inplace=True)\n",
    "df['GarageQual'].fillna('NA', inplace=True)\n",
    "df['GarageCond'].fillna('NA', inplace=True)"
   ]
  },
  {
   "cell_type": "markdown",
   "metadata": {},
   "source": [
    " "
   ]
  },
  {
   "cell_type": "markdown",
   "metadata": {},
   "source": [
    "- BsmtQual, BsmtExposure ve BsmtCond kolonları diğer basement kolonlarını kapsadığından seçilmiş kolonlar kaldırıldı.\n",
    "- Bu üç kapsayıcı kolonun NaN değerleri \"NA\"(No basement) değeri ile dolduruldu"
   ]
  },
  {
   "cell_type": "code",
   "execution_count": null,
   "metadata": {},
   "outputs": [],
   "source": [
    "# basementX\n",
    "df = df.drop(['BsmtFinSF2','BsmtUnfSF','BsmtFinSF2','BsmtFinSF1','BsmtFinType2','BsmtFinType1'], axis = 1)\n",
    "\n",
    "df['BsmtExposure'].fillna('NA', inplace=True)\n",
    "df['BsmtCond'].fillna('NA', inplace=True)\n",
    "df['BsmtQual'].fillna('NA', inplace=True)"
   ]
  },
  {
   "cell_type": "markdown",
   "metadata": {},
   "source": [
    "* MasVnrArea değişkeninde \"0\" olan noktaların MasVnrType değişkeninde karşılık olarak \"NA\" olarak doldurulmuştur.\n",
    "* MasVnrType değişkeninde None olup MasVnrArea'da karşılığı 0 olan değişkenler tespit edilmiştir. Bu değerlerin outlier olarak düşünülüp outlier temizleme aşamasında çıkartılması gerekebilir."
   ]
  },
  {
   "cell_type": "code",
   "execution_count": null,
   "metadata": {},
   "outputs": [],
   "source": [
    "# masvnr\n",
    " \n",
    "df.loc[df[\"MasVnrArea\"]==0.0, \"MasVnrType\"] = \"NA\""
   ]
  },
  {
   "cell_type": "markdown",
   "metadata": {},
   "source": [
    " "
   ]
  },
  {
   "cell_type": "markdown",
   "metadata": {},
   "source": [
    "Electrical kolonundaki tek null değer çıkartıldı."
   ]
  },
  {
   "cell_type": "code",
   "execution_count": null,
   "metadata": {},
   "outputs": [],
   "source": [
    "# electrical :\n",
    "\n",
    "df = df.drop(df.loc[df['Electrical'].isnull()].index)"
   ]
  },
  {
   "cell_type": "markdown",
   "metadata": {},
   "source": [
    "1stFlrSF ve 2ndFlrSF değişkenlerinin toplamı GrLivArea değişkenini verdiği için bu iki değişken veri setinden çıkarıldı"
   ]
  },
  {
   "cell_type": "code",
   "execution_count": null,
   "metadata": {},
   "outputs": [],
   "source": [
    "#1. kat alanı ve 2. kat alanı GrLivArea'yı verdiği için iki kolon da silindi.\n",
    "df.drop([\"1stFlrSF\",\"2ndFlrSF\"], axis=1, inplace=True)"
   ]
  },
  {
   "cell_type": "markdown",
   "metadata": {},
   "source": [
    "#### ---------------------------------------------------------------------------------------------------------------------------------------------------------------------------------------"
   ]
  },
  {
   "cell_type": "markdown",
   "metadata": {},
   "source": [
    "Alan bilgisi içeren kolonlardan 0 sayısı yüksek olanlar belirtildi.\n",
    "- Bunun belirtilmesinin sebebi alan değeri 0 olduğunda o evin bu özelliğe sahip olmadığı bilgisine ulaşılırken, NaN olduğunda evin bu özelliğe sahip olup olmadığı bilinmemektedir."
   ]
  },
  {
   "cell_type": "code",
   "execution_count": null,
   "metadata": {},
   "outputs": [],
   "source": [
    "zeroSpaces = df[[\"LowQualFinSF\", \"PoolArea\", \"WoodDeckSF\", \"MiscVal\", \"MasVnrArea\", \"SalePrice\"]]\n",
    "zeroSpaces"
   ]
  },
  {
   "cell_type": "markdown",
   "metadata": {},
   "source": [
    "Toplam 10 tane bol sıfırlı alan kolonu var, sadece bunların yüzdelerine bakıcak olursak:"
   ]
  },
  {
   "cell_type": "code",
   "execution_count": null,
   "metadata": {},
   "outputs": [],
   "source": [
    "# kolonlardaki 0'ların yüzdesel olarak gösterimi: \n",
    "\n",
    "total = (df == 0).sum(axis=0).sort_values(ascending=False)\n",
    "percent = ((df == 0).sum(axis=0)/df.count()).sort_values(ascending=False)\n",
    "zeros = pd.concat([total, percent], axis=1, keys=['Total', 'Percent'])\n",
    "zeros.head(8)"
   ]
  },
  {
   "cell_type": "markdown",
   "metadata": {},
   "source": [
    "Buradaki 0 değerleri yüksek kolonlar çıkartıldı."
   ]
  },
  {
   "cell_type": "code",
   "execution_count": null,
   "metadata": {},
   "outputs": [],
   "source": [
    "df = df.drop(['PoolArea','LowQualFinSF','MiscVal'], axis = 1)"
   ]
  },
  {
   "cell_type": "code",
   "execution_count": null,
   "metadata": {},
   "outputs": [],
   "source": [
    "# veri setinin son hali : \n",
    "\n",
    "df.head()"
   ]
  },
  {
   "cell_type": "markdown",
   "metadata": {},
   "source": [
    "Verileri temizledikten sonraki korelasyonları:"
   ]
  },
  {
   "cell_type": "code",
   "execution_count": null,
   "metadata": {},
   "outputs": [],
   "source": [
    "# numerik değişkenler arasındaki korelasyonlara hızlı bir bakış : \n",
    "\n",
    "corr = df.corr()\n",
    "f, ax = plt.subplots(figsize=(15, 12))\n",
    "sns.heatmap(corr,linewidths=.5, vmin=0, vmax=1, square=True, annot=True)"
   ]
  },
  {
   "cell_type": "markdown",
   "metadata": {},
   "source": [
    "# Detect Outliers"
   ]
  },
  {
   "cell_type": "markdown",
   "metadata": {},
   "source": [
    "Öncelikle temizleme işlemlerinden sonra nümerik verilerin korelasyonlarına bakıldı."
   ]
  },
  {
   "cell_type": "code",
   "execution_count": null,
   "metadata": {},
   "outputs": [],
   "source": [
    "corr['SalePrice'].sort_values(ascending=False)"
   ]
  },
  {
   "cell_type": "markdown",
   "metadata": {},
   "source": [
    "Korelasyon değeri rastgele 6 kolon seçildi ve görselleştirmeden faydalanarak outlier veriler incelendi."
   ]
  },
  {
   "cell_type": "code",
   "execution_count": null,
   "metadata": {},
   "outputs": [],
   "source": [
    "sns.set()\n",
    "cols = ['SalePrice', 'GrLivArea', 'GarageCars', 'TotalBsmtSF', 'TotalBath', 'YearBuilt','YearRemodAdd']\n",
    "sns.pairplot(df[cols], size = 2.5)\n",
    "plt.show();"
   ]
  },
  {
   "cell_type": "markdown",
   "metadata": {},
   "source": [
    "Buradan sonra bu kolonların 4 tanesinin outlierları temizlenecektir. Outlier temizleme işlemi için IQR seçilmiştir."
   ]
  },
  {
   "cell_type": "markdown",
   "metadata": {},
   "source": [
    "Seçilen kolonların IQR yöntemiyle outlier tespiti:"
   ]
  },
  {
   "cell_type": "code",
   "execution_count": null,
   "metadata": {},
   "outputs": [],
   "source": [
    "selected_columns = df.select_dtypes(include=np.number).columns.tolist()[1:]\n",
    "numeric_df = df[selected_columns]"
   ]
  },
  {
   "cell_type": "code",
   "execution_count": null,
   "metadata": {},
   "outputs": [],
   "source": [
    "numeric_df_statsinfo = numeric_df.describe()\n",
    "\n",
    "def showstats(dataFrame_statsinfo,column_name):\n",
    "\n",
    "    mean   = dataFrame_statsinfo[column_name][1]\n",
    "    median = dataFrame_statsinfo[column_name][5]\n",
    "    median_mean_ratio = median/mean\n",
    "    Q1     = dataFrame_statsinfo[column_name][4]\n",
    "    Q3     = dataFrame_statsinfo[column_name][6]\n",
    "    IQR    = Q3-Q1\n",
    "    upper_band = Q3 + 1.5*IQR\n",
    "    lower_band = Q1 - 1.5 *IQR\n",
    "\n",
    "    print('\\n' + str(column_name)+'\\n' +\n",
    "          \"\\n\" \"ortalama : \" + str(mean) +\n",
    "          '\\n' \"medyan    : \" + str(median) +\n",
    "          '\\n' \"Q1 değeri    : \" + str(Q1) +\n",
    "          '\\n' \"Q3 değeri    : \" + str(Q3) + \n",
    "          '\\n' \"IQR değeri    : \" + str(IQR) + \n",
    "          '\\n' \"alt ve üst değer aralığı  : \" + str((lower_band,upper_band))\n",
    "         )\n",
    "\n",
    "    return upper_band , lower_band \n",
    "\n",
    "\n",
    "for column_name in selected_columns :\n",
    "    upper_band , lower_band = showstats(numeric_df_statsinfo , column_name)\n",
    "    outliers = numeric_df[(numeric_df[column_name] < lower_band) | (numeric_df[column_name] > upper_band)][column_name].values\n",
    "    print('\\n' + str(column_name) + \" değişkeninin \" + str(len(outliers)) + \" outlier noktası vardır  \")\n",
    "    print('\\n\\n****************************************************************************\\n')"
   ]
  },
  {
   "cell_type": "markdown",
   "metadata": {},
   "source": [
    "Kategorik değişkenler için Box-Plot"
   ]
  },
  {
   "cell_type": "code",
   "execution_count": null,
   "metadata": {},
   "outputs": [],
   "source": [
    "num_col=df._get_numeric_data().columns.tolist()[1:]\n",
    "cat_col=set(df.columns)-set(num_col)\n",
    "cat_col.remove(\"Id\")\n",
    "\n",
    "for cols in cat_col:\n",
    "    f, ax = plt.subplots(figsize=(8, 6))\n",
    "    fig = sns.boxplot(x=cols, y=\"SalePrice\", data=df)\n",
    "    fig.axis(ymin=0, ymax=800000);\n",
    "    plt.show()"
   ]
  },
  {
   "cell_type": "markdown",
   "metadata": {},
   "source": [
    "Nümerik değişkenler için Histogram-Plot"
   ]
  },
  {
   "cell_type": "code",
   "execution_count": null,
   "metadata": {},
   "outputs": [],
   "source": [
    "for cols_ in num_col:\n",
    "    f, ax = plt.subplots(figsize=(8, 8))\n",
    "    fig =sns.distplot(df[cols_])"
   ]
  },
  {
   "cell_type": "code",
   "execution_count": null,
   "metadata": {},
   "outputs": [],
   "source": []
  }
 ],
 "metadata": {
  "kernelspec": {
   "display_name": "Python 3",
   "language": "python",
   "name": "python3"
  },
  "language_info": {
   "codemirror_mode": {
    "name": "ipython",
    "version": 3
   },
   "file_extension": ".py",
   "mimetype": "text/x-python",
   "name": "python",
   "nbconvert_exporter": "python",
   "pygments_lexer": "ipython3",
   "version": "3.8.0"
  }
 },
 "nbformat": 4,
 "nbformat_minor": 5
}
